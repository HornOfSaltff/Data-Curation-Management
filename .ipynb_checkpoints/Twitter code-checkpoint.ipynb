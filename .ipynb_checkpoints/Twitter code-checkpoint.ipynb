{
 "cells": [
  {
   "cell_type": "code",
   "execution_count": null,
   "id": "04dde129",
   "metadata": {},
   "outputs": [],
   "source": [
    "pip install numpy"
   ]
  },
  {
   "cell_type": "code",
   "execution_count": null,
   "id": "b7c64ad3",
   "metadata": {},
   "outputs": [],
   "source": [
    "pip install tweepy"
   ]
  },
  {
   "cell_type": "code",
   "execution_count": null,
   "id": "90ab6d03",
   "metadata": {},
   "outputs": [],
   "source": [
    "conda install -c anaconda pathlib"
   ]
  },
  {
   "cell_type": "code",
   "execution_count": null,
   "id": "97637b9c",
   "metadata": {},
   "outputs": [],
   "source": [
    "pip install ruamel.yaml\n"
   ]
  },
  {
   "cell_type": "code",
   "execution_count": null,
   "id": "e268b47b",
   "metadata": {},
   "outputs": [],
   "source": [
    "conda install -c conda-forge textblob"
   ]
  },
  {
   "cell_type": "code",
   "execution_count": null,
   "id": "40389b03",
   "metadata": {},
   "outputs": [],
   "source": [
    "import pandas as pd\n",
    "import numpy as np\n",
    "import tweepy as tw\n",
    "from textblob import TextBlob"
   ]
  },
  {
   "cell_type": "code",
   "execution_count": 77,
   "id": "1c59715d",
   "metadata": {},
   "outputs": [],
   "source": [
    "# Eric's token info\n",
    "def getClient():\n",
    "    client = tweepy.Client(bearer_token='AAAAAAAAAAAAAAAAAAAAAJgTZwEAAAAAFVLr%2F%2FClRF6djF%2Ft7s5yswscGN8%3DDRcPCVEXPcYx6zmrNscHjB1uEwOYdN9dwcZc00aZbh8D3TNPL0', \n",
    "                       consumer_key='697t3SlCIA8EQqhuUXt6hvdR2', \n",
    "                       consumer_secret='vvx7jQTsQx0DsdqywLCbNXy7fVGfZ0pHIsHV7ABAn9B38GYeWA', \n",
    "                       access_token='4552843577-Fz1dti9bkAEtMUnKJN8uq9rs9DC22L8J0k3eA2M', \n",
    "                       access_token_secret='UhoqlCSKwv269iEX3IhjsxUE4huNaTKMWSniIUwEWYd8l')\n",
    "    return client"
   ]
  },
  {
   "cell_type": "code",
   "execution_count": 78,
   "id": "75a00b91",
   "metadata": {},
   "outputs": [
    {
     "data": {
      "text/plain": [
       "Response(data=<User id=29873662 name=Marques Brownlee username=MKBHD>, includes={}, errors=[], meta={})"
      ]
     },
     "execution_count": 78,
     "metadata": {},
     "output_type": "execute_result"
    }
   ],
   "source": [
    "client.get_user(username='MKBHD')\n",
    "#getting user id from the twitter handle"
   ]
  },
  {
   "cell_type": "code",
   "execution_count": 81,
   "id": "25351929",
   "metadata": {},
   "outputs": [],
   "source": [
    "def mentionTweets(userId):\n",
    "    client = getClient()\n",
    "    tweetMentions = client.get_users_mentions(id = userId, start_time='2022-02-01T00:00:00.000Z' , end_time='2022-02-28T00:00:00.000Z')\n",
    "    tweetMentionData = tweetMentions.data\n",
    "    return tweetMentionData\n",
    "    "
   ]
  },
  {
   "cell_type": "code",
   "execution_count": 84,
   "id": "15a7057f",
   "metadata": {},
   "outputs": [],
   "source": [
    "def userTweets(userId):\n",
    "    client = getClient()\n",
    "    userTweet = client.get_users_tweets(id = userId, start_time='2022-02-01T00:00:00.000Z' , end_time='2022-02-28T00:00:00.000Z')\n",
    "    userTweetData = userTweet.data\n",
    "    return userTweetData"
   ]
  },
  {
   "cell_type": "code",
   "execution_count": 87,
   "id": "a2085f8c",
   "metadata": {},
   "outputs": [],
   "source": [
    "# please look at https://docs.tweepy.org/en/stable/client.html#search-tweets\n",
    "# and https://www.youtube.com/watch?v=GqzbvoAsSrg&ab_channel=SkoloOnline\n",
    "# these helped me make this ~Eric"
   ]
  },
  {
   "cell_type": "code",
   "execution_count": null,
   "id": "8cfb9e10",
   "metadata": {},
   "outputs": [],
   "source": []
  }
 ],
 "metadata": {
  "kernelspec": {
   "display_name": "Python 3 (ipykernel)",
   "language": "python",
   "name": "python3"
  },
  "language_info": {
   "codemirror_mode": {
    "name": "ipython",
    "version": 3
   },
   "file_extension": ".py",
   "mimetype": "text/x-python",
   "name": "python",
   "nbconvert_exporter": "python",
   "pygments_lexer": "ipython3",
   "version": "3.9.7"
  }
 },
 "nbformat": 4,
 "nbformat_minor": 5
}
