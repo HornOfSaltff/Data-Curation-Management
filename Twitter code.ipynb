{
 "cells": [
  {
   "cell_type": "code",
   "execution_count": 11,
   "id": "40389b03",
   "metadata": {},
   "outputs": [],
   "source": [
    "import pandas as pd\n",
    "import numpy as np\n",
    "import tweepy as tw\n",
    "import time\n",
    "from textblob import TextBlob\n",
    "import wordcloud"
   ]
  },
  {
   "cell_type": "code",
   "execution_count": 12,
   "id": "aa81a8d4",
   "metadata": {},
   "outputs": [
    {
     "name": "stdout",
     "output_type": "stream",
     "text": [
      "Collecting package metadata (current_repodata.json): ...working... done\n",
      "Note: you may need to restart the kernel to use updated packages.\n",
      "\n",
      "Solving environment: ...working... done\n",
      "\n",
      "# All requested packages already installed.\n",
      "\n"
     ]
    }
   ],
   "source": [
    "conda install -c conda-forge wordcloud"
   ]
  },
  {
   "cell_type": "code",
   "execution_count": 13,
   "id": "7c3f6749",
   "metadata": {},
   "outputs": [
    {
     "name": "stdout",
     "output_type": "stream",
     "text": [
      "Requirement already satisfied: textblob in c:\\users\\ecy14\\anaconda3\\lib\\site-packages (0.17.1)\n",
      "Requirement already satisfied: nltk>=3.1 in c:\\users\\ecy14\\anaconda3\\lib\\site-packages (from textblob) (3.6.5)\n",
      "Requirement already satisfied: click in c:\\users\\ecy14\\anaconda3\\lib\\site-packages (from nltk>=3.1->textblob) (8.0.3)\n",
      "Requirement already satisfied: joblib in c:\\users\\ecy14\\anaconda3\\lib\\site-packages (from nltk>=3.1->textblob) (1.1.0)\n",
      "Requirement already satisfied: regex>=2021.8.3 in c:\\users\\ecy14\\anaconda3\\lib\\site-packages (from nltk>=3.1->textblob) (2021.8.3)\n",
      "Requirement already satisfied: tqdm in c:\\users\\ecy14\\anaconda3\\lib\\site-packages (from nltk>=3.1->textblob) (4.62.3)\n",
      "Requirement already satisfied: colorama in c:\\users\\ecy14\\anaconda3\\lib\\site-packages (from click->nltk>=3.1->textblob) (0.4.4)\n",
      "Note: you may need to restart the kernel to use updated packages.\n"
     ]
    }
   ],
   "source": [
    "pip install textblob"
   ]
  },
  {
   "cell_type": "code",
   "execution_count": 14,
   "id": "1c59715d",
   "metadata": {},
   "outputs": [],
   "source": [
    "# Eric's token info\n",
    "def getClient():\n",
    "    client = tw.Client(bearer_token='AAAAAAAAAAAAAAAAAAAAAJgTZwEAAAAAFVLr%2F%2FClRF6djF%2Ft7s5yswscGN8%3DDRcPCVEXPcYx6zmrNscHjB1uEwOYdN9dwcZc00aZbh8D3TNPL0', \n",
    "                       consumer_key='697t3SlCIA8EQqhuUXt6hvdR2', \n",
    "                       consumer_secret='vvx7jQTsQx0DsdqywLCbNXy7fVGfZ0pHIsHV7ABAn9B38GYeWA', \n",
    "                       access_token='4552843577-Fz1dti9bkAEtMUnKJN8uq9rs9DC22L8J0k3eA2M', \n",
    "                       access_token_secret='UhoqlCSKwv269iEX3IhjsxUE4huNaTKMWSniIUwEWYd8l')\n",
    "    return client"
   ]
  },
  {
   "cell_type": "code",
   "execution_count": 28,
   "id": "75a00b91",
   "metadata": {},
   "outputs": [],
   "source": [
    "def getUserID(user):\n",
    "    client = getClient()\n",
    "    x = client.get_user(username= user)\n",
    "    x\n",
    "    return x\n",
    "#return type dict\n",
    "#getting user id from the twitter handle"
   ]
  },
  {
   "cell_type": "code",
   "execution_count": 16,
   "id": "25351929",
   "metadata": {},
   "outputs": [],
   "source": [
    "def mentionTweets(userId):\n",
    "    client = getClient()\n",
    "    tweetMentions = client.get_users_mentions(id = userId, start_time='2022-02-01T00:00:00.000Z' , end_time='2022-02-07T00:00:00.000Z',max_results = 100, expansions = 'author_id')\n",
    "    tweetMentionData = tweetMentions.data\n",
    "    resultsMentions = []\n",
    "    if not tweetMentionData is None and len(tweetMentionData) > 0:\n",
    "        for tweet in tweetMentionData:\n",
    "            #tweetAID = client.statuses_lookup(id = tweet.id)  trying to find a away to get author id from a mention\n",
    "            obj = {}\n",
    "            obj['author id'] = tweet.author_id\n",
    "            obj['id'] = tweet.id\n",
    "            obj['text'] = tweet.text\n",
    "            obj['for'] = userId\n",
    "            resultsMentions.append(obj)\n",
    "    else:\n",
    "        return []\n",
    "    return resultsMentions\n",
    "# I'm not sure why but it returns none for author id\n",
    "    "
   ]
  },
  {
   "cell_type": "code",
   "execution_count": 23,
   "id": "15a7057f",
   "metadata": {},
   "outputs": [],
   "source": [
    "def userTweets(userId):\n",
    "    client = getClient()\n",
    "    userTweet = client.get_users_tweets(id = userId, start_time='2022-02-01T00:00:00.000Z' , end_time='2022-02-07T00:00:00.000Z',expansions = 'author_id')\n",
    "    tweetuserData = userTweet.data\n",
    "    resultsTweets = []\n",
    "    if not tweetuserData is None and len(tweetuserData) > 0:\n",
    "        for tweet in tweetuserData:\n",
    "            obj = {}\n",
    "            obj['author id'] = tweet.author_id\n",
    "            obj['id'] = tweet.id\n",
    "            obj['text'] = tweet.text\n",
    "            obj['for'] =  userId\n",
    "            resultsTweets.append(obj)\n",
    "    return resultsTweets\n",
    "\n",
    "#FYI this alos looks at retweets"
   ]
  },
  {
   "cell_type": "code",
   "execution_count": null,
   "id": "ee4eabe5",
   "metadata": {},
   "outputs": [],
   "source": []
  },
  {
   "cell_type": "code",
   "execution_count": 18,
   "id": "a2085f8c",
   "metadata": {},
   "outputs": [],
   "source": [
    "# please look at https://docs.tweepy.org/en/stable/client.html#search-tweets\n",
    "# and https://www.youtube.com/watch?v=GqzbvoAsSrg&ab_channel=SkoloOnline\n",
    "# these helped me make this ~Eric"
   ]
  },
  {
   "cell_type": "code",
   "execution_count": 29,
   "id": "d7034f17",
   "metadata": {},
   "outputs": [
    {
     "data": {
      "text/plain": [
       "Response(data=<User id=151967576 name=Ben Crump username=AttorneyCrump>, includes={}, errors=[], meta={})"
      ]
     },
     "execution_count": 29,
     "metadata": {},
     "output_type": "execute_result"
    }
   ],
   "source": [
    "z = getUserID('AttorneyCrump')\n",
    "z"
   ]
  },
  {
   "cell_type": "code",
   "execution_count": 20,
   "id": "364fde15",
   "metadata": {},
   "outputs": [
    {
     "data": {
      "text/plain": [
       "[{'author id': 754720008509403137,\n",
       "  'id': 1489706377689841671,\n",
       "  'text': 'Happy #BlackHistoryMonth, Anaheim! Celebrate Black voices this month and beyond by visiting your library to check out the books below and more!\\n\\n⭐ \"Pet\" by by @azemezi \\n⭐ \"Now That I\\'ve Found You\" by @KristinaForest \\n⭐ \"Punching the Air\" by @ibizoboi &amp; @dr_yusefsalaam https://t.co/SoIZhfXUQD',\n",
       "  'for': 28886036},\n",
       " {'author id': 2518142763,\n",
       "  'id': 1489631547162611715,\n",
       "  'text': 'Rewatched both, @13THFilm (for at least the 100th ⏰ and @WhenTheySeeUs Tears always flow, but I always find myself smiling bigger at the end. @dr_yusefsalaam  @koreykingwise @AntronMccray @santanaraymond faces &amp; where they are now makes my ❤️ happy! TY @ava',\n",
       "  'for': 28886036},\n",
       " {'author id': 160625658,\n",
       "  'id': 1489383593721933824,\n",
       "  'text': '.@dr_yusefsalaam',\n",
       "  'for': 28886036},\n",
       " {'author id': 1122758179,\n",
       "  'id': 1489382858158493706,\n",
       "  'text': 'I asked @dr_yusefsalaam what advice could he give me as a person on the outside trying to nurture the human experience of a family member on the inside without being toxically positive. I am so thankful for this answer! #betternotbitter https://t.co/QIqABU4fuI',\n",
       "  'for': 28886036},\n",
       " {'author id': 3873228269,\n",
       "  'id': 1489363690658881549,\n",
       "  'text': 'Impactful 22nd annual Dr. William G. Anderson Slavery to Freedom Lecture Series w/@dr_yusefsalaam, member of The Exonerated Five &amp; motivational/transformational speaker &amp; NYT Best Selling author, new book @GrandCentralPub Better not Bitter\\nhttps://t.co/alJ6QPXSOJ\\n@MSU_Osteopathic https://t.co/gmT8j8d7Dp',\n",
       "  'for': 28886036},\n",
       " {'author id': 1122758179,\n",
       "  'id': 1489359452780257284,\n",
       "  'text': 'Waiting for @dr_yusefsalaam on this webinar! So proud of this black man! Shout out to the Spartans! This @WMUBroncos is thankful!',\n",
       "  'for': 28886036},\n",
       " {'author id': 574005482,\n",
       "  'id': 1489246492988739587,\n",
       "  'text': '#Day24: a book collaboration by 2 or more authors. #punchingtheair the stunning #versenovel by @ibizoboi and @dr_yusefsalaam fits this category perfectly. It was the first verse novel I read and I was very sceptical of the genre. But I’m so glad I read it because I loved it ❤️📖 https://t.co/CrJhrfsocl',\n",
       "  'for': 28886036},\n",
       " {'author id': 565922680,\n",
       "  'id': 1489223940790759434,\n",
       "  'text': \"@maikamoulite @acevedowrites @MaritzaMoulite @andthisjustin @dr_yusefsalaam @angiecthomas 💜💜 can't wait ro read your book\",\n",
       "  'for': 28886036},\n",
       " {'author id': 215036904,\n",
       "  'id': 1489066639375147015,\n",
       "  'text': '@resses_peace @acevedowrites @MaritzaMoulite @andthisjustin @dr_yusefsalaam @angiecthomas ❤️❤️',\n",
       "  'for': 28886036},\n",
       " {'author id': 565922680,\n",
       "  'id': 1488951615180660740,\n",
       "  'text': '@acevedowrites @maikamoulite @MaritzaMoulite @andthisjustin\\n@dr_yusefsalaam @angiecthomas\\n\\n#librarytwitter #librarylife #BHM #BlackHistoryMonth #yabooks #teenreaders #publicLibrary #ToniMorrison #RosaParks #TinaTurner #blackauthors #blackwriters https://t.co/9Uf1QRCbiu',\n",
       "  'for': 28886036},\n",
       " {'author id': 128490887,\n",
       "  'id': 1488868280358084608,\n",
       "  'text': '@GeoffWDA @dr_yusefsalaam',\n",
       "  'for': 28886036},\n",
       " {'author id': 815555376661884928,\n",
       "  'id': 1488605551378452482,\n",
       "  'text': 'Congratulations to the Longlist of the 2022 Dublin Literary Award 12/n\\n#GoranVojnovic Olivia Hellewell @oliviahellewell\\n#PipWilliams\\nAlice Zeniter @AliceZeniter Frank Wynne @Terribleman\\nIbi Zoboi @ibizoboi  Yusef Salaam @dr_yusefsalaam\\nPast years:\\nhttps://t.co/IZ9oVIafb1',\n",
       "  'for': 28886036}]"
      ]
     },
     "execution_count": 20,
     "metadata": {},
     "output_type": "execute_result"
    }
   ],
   "source": [
    "mentionTweets(28886036)"
   ]
  },
  {
   "cell_type": "code",
   "execution_count": 21,
   "id": "b10d52ac",
   "metadata": {},
   "outputs": [
    {
     "data": {
      "text/plain": [
       "[{'author id': 28886036,\n",
       "  'id': 1488922592035721218,\n",
       "  'text': '.\\n#PowerPost💪🏻💪🏼💪🏽💪🏾💪🏿™️\\n\\nJoin me in conversation tomorrow at @mbp_msu!!!!! as we talk Slavery to Freedom with @dr.yusefsalaam \\n\\nFeb 3, 2022 05:00 PM EST\\n\\nRegister here:\\n\\nhttps://t.co/gHt2mX5GCy https://t.co/yar1zTHf5i',\n",
       "  'for': 28886036},\n",
       " {'author id': 28886036,\n",
       "  'id': 1488922082234839051,\n",
       "  'text': '📷 . #PowerPost💪🏻💪🏼💪🏽💪🏾💪🏿™️ Join me in conversation tomorrow at @mbp_msu!!!!! as we talk Slavery to Freedom with @dr.yusefsalaam Feb 3, 2022 05:00 PM EST Register here: https://t.co/gHt2mX5GCy... https://t.co/jxCstk2oUg',\n",
       "  'for': 28886036},\n",
       " {'author id': 28886036,\n",
       "  'id': 1488922080510947330,\n",
       "  'text': 'Just posted a photo https://t.co/Q6vSYbqPUY',\n",
       "  'for': 28886036}]"
      ]
     },
     "execution_count": 21,
     "metadata": {},
     "output_type": "execute_result"
    }
   ],
   "source": [
    "userTweets(28886036)"
   ]
  },
  {
   "cell_type": "code",
   "execution_count": null,
   "id": "caa9801e",
   "metadata": {},
   "outputs": [],
   "source": []
  },
  {
   "cell_type": "code",
   "execution_count": null,
   "id": "ff2954c1",
   "metadata": {},
   "outputs": [],
   "source": []
  },
  {
   "cell_type": "code",
   "execution_count": 25,
   "id": "0a064f6f",
   "metadata": {},
   "outputs": [
    {
     "ename": "NameError",
     "evalue": "name 'combine' is not defined",
     "output_type": "error",
     "traceback": [
      "\u001b[1;31m---------------------------------------------------------------------------\u001b[0m",
      "\u001b[1;31mNameError\u001b[0m                                 Traceback (most recent call last)",
      "\u001b[1;32m~\\AppData\\Local\\Temp/ipykernel_5140/2937158919.py\u001b[0m in \u001b[0;36m<module>\u001b[1;34m\u001b[0m\n\u001b[1;32m----> 1\u001b[1;33m \u001b[0mallWords\u001b[0m \u001b[1;33m=\u001b[0m \u001b[1;34m' '\u001b[0m\u001b[1;33m.\u001b[0m\u001b[0mjoin\u001b[0m\u001b[1;33m(\u001b[0m \u001b[1;33m[\u001b[0m\u001b[0mtwts\u001b[0m \u001b[1;32mfor\u001b[0m \u001b[0mtwts\u001b[0m \u001b[1;32min\u001b[0m \u001b[0mcombine\u001b[0m\u001b[1;33m[\u001b[0m\u001b[1;34m'text'\u001b[0m\u001b[1;33m]\u001b[0m\u001b[1;33m]\u001b[0m\u001b[1;33m)\u001b[0m\u001b[1;33m\u001b[0m\u001b[1;33m\u001b[0m\u001b[0m\n\u001b[0m\u001b[0;32m      2\u001b[0m \u001b[0mwordCloud\u001b[0m \u001b[1;33m=\u001b[0m \u001b[0mWordCloud\u001b[0m\u001b[1;33m(\u001b[0m\u001b[0mwidth\u001b[0m \u001b[1;33m=\u001b[0m \u001b[1;36m500\u001b[0m\u001b[1;33m,\u001b[0m \u001b[0mheight\u001b[0m \u001b[1;33m=\u001b[0m\u001b[1;36m300\u001b[0m\u001b[1;33m,\u001b[0m \u001b[0mrandom_state\u001b[0m \u001b[1;33m=\u001b[0m \u001b[1;36m21\u001b[0m\u001b[1;33m,\u001b[0m \u001b[0mmax_font_size\u001b[0m \u001b[1;33m=\u001b[0m\u001b[1;36m119\u001b[0m\u001b[1;33m)\u001b[0m\u001b[1;33m.\u001b[0m\u001b[0mgenerate\u001b[0m\u001b[1;33m(\u001b[0m\u001b[0mallWords\u001b[0m\u001b[1;33m)\u001b[0m\u001b[1;33m\u001b[0m\u001b[1;33m\u001b[0m\u001b[0m\n",
      "\u001b[1;31mNameError\u001b[0m: name 'combine' is not defined"
     ]
    }
   ],
   "source": [
    "allWords = ' '.join( [twts for twts in combine['text']])\n",
    "wordCloud = WordCloud(width = 500, height =300, random_state = 21, max_font_size =119).generate(allWords)"
   ]
  },
  {
   "cell_type": "code",
   "execution_count": null,
   "id": "bf27aeae",
   "metadata": {},
   "outputs": [],
   "source": []
  }
 ],
 "metadata": {
  "kernelspec": {
   "display_name": "Python 3 (ipykernel)",
   "language": "python",
   "name": "python3"
  },
  "language_info": {
   "codemirror_mode": {
    "name": "ipython",
    "version": 3
   },
   "file_extension": ".py",
   "mimetype": "text/x-python",
   "name": "python",
   "nbconvert_exporter": "python",
   "pygments_lexer": "ipython3",
   "version": "3.9.7"
  }
 },
 "nbformat": 4,
 "nbformat_minor": 5
}
