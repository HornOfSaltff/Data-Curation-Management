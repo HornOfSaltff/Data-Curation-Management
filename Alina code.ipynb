{
 "cells": [
  {
   "cell_type": "code",
   "execution_count": 46,
   "id": "f3044378",
   "metadata": {},
   "outputs": [
    {
     "name": "stderr",
     "output_type": "stream",
     "text": [
      "[nltk_data] Downloading package vader_lexicon to\n",
      "[nltk_data]     C:\\Users\\ecy14\\AppData\\Roaming\\nltk_data...\n",
      "[nltk_data]   Package vader_lexicon is already up-to-date!\n"
     ]
    }
   ],
   "source": [
    "import pandas as pd\n",
    "import numpy as np\n",
    "import tweepy as tw\n",
    "from textblob import TextBlob\n",
    "import nltk\n",
    "from nltk.sentiment import SentimentIntensityAnalyzer\n",
    "nltk.download('vader_lexicon')\n",
    "import matplotlib\n",
    "import matplotlib.pyplot as plt\n",
    "import re"
   ]
  },
  {
   "cell_type": "code",
   "execution_count": 47,
   "id": "ef3a6084",
   "metadata": {},
   "outputs": [],
   "source": [
    "def getClient():\n",
    "    client = tw.Client(bearer_token='AAAAAAAAAAAAAAAAAAAAAJgTZwEAAAAAFVLr%2F%2FClRF6djF%2Ft7s5yswscGN8%3DDRcPCVEXPcYx6zmrNscHjB1uEwOYdN9dwcZc00aZbh8D3TNPL0', \n",
    "                       consumer_key='697t3SlCIA8EQqhuUXt6hvdR2', \n",
    "                       consumer_secret='vvx7jQTsQx0DsdqywLCbNXy7fVGfZ0pHIsHV7ABAn9B38GYeWA', \n",
    "                       access_token='4552843577-Fz1dti9bkAEtMUnKJN8uq9rs9DC22L8J0k3eA2M', \n",
    "                       access_token_secret='UhoqlCSKwv269iEX3IhjsxUE4huNaTKMWSniIUwEWYd8l')\n",
    "    return client\n",
    "    "
   ]
  },
  {
   "cell_type": "code",
   "execution_count": 48,
   "id": "bb829244",
   "metadata": {},
   "outputs": [],
   "source": [
    "def getUserID(user):\n",
    "    client = getClient()\n",
    "    x = client.get_user(username= user)\n",
    "    \n",
    "    return x\n",
    "#return type dict\n",
    "#getting user id from the twitter handle\n"
   ]
  },
  {
   "cell_type": "code",
   "execution_count": 49,
   "id": "33a73f00",
   "metadata": {},
   "outputs": [],
   "source": [
    "def mentionTweets(userId):\n",
    "    client = getClient()\n",
    "    tweetMentions = client.get_users_mentions(id = userId, start_time='2022-02-01T00:00:00.000Z' , end_time='2022-02-07T00:00:00.000Z',max_results = 100,expansions = 'author_id')\n",
    "    tweetMentionData = tweetMentions.data # raw data\n",
    "    resultsMentions = []\n",
    "    if not tweetMentionData is None and len(tweetMentionData) > 0:\n",
    "        for tweet in tweetMentionData:\n",
    "            #tweetAID = client.statuses_lookup(id = tweet.id)  trying to find a away to get author id from a mention\n",
    "            obj = {}\n",
    "            obj['author id'] = tweet.author_id # issue* : it's printing none, author id is the onw who made the mention\n",
    "            obj['id'] = tweet.id  # use the tweet id to author id\n",
    "            obj['text'] = tweet.text  # prints out text\n",
    "            obj['for'] = userId\n",
    "            resultsMentions.append(obj)\n",
    "    else:\n",
    "        return []\n",
    "    return resultsMentions\n",
    "    "
   ]
  },
  {
   "cell_type": "code",
   "execution_count": 50,
   "id": "2fce46c1",
   "metadata": {},
   "outputs": [],
   "source": [
    "def userTweets(userId):\n",
    "    client = getClient()\n",
    "    userTweet = client.get_users_tweets(id = userId, start_time='2022-02-01T00:00:00.000Z' , end_time='2022-02-07T00:00:00.000Z',expansions = 'author_id')\n",
    "    tweetuserData = userTweet.data\n",
    "    resultsTweets = []\n",
    "    if not tweetuserData is None and len(tweetuserData) > 0:\n",
    "        for tweet in tweetuserData:\n",
    "            obj = {}\n",
    "            obj['author id'] = userId\n",
    "            obj['id'] = tweet.id\n",
    "            obj['text'] = tweet.text\n",
    "            obj['for'] = tweet.author_id\n",
    "            resultsTweets.append(obj)\n",
    "    return resultsTweets\n",
    "  "
   ]
  },
  {
   "cell_type": "code",
   "execution_count": 51,
   "id": "edf4c22f",
   "metadata": {},
   "outputs": [
    {
     "data": {
      "text/plain": [
       "Response(data=<User id=44196397 name=Elon Musk username=elonmusk>, includes={}, errors=[], meta={})"
      ]
     },
     "execution_count": 51,
     "metadata": {},
     "output_type": "execute_result"
    }
   ],
   "source": [
    "z = getUserID('elonmusk')\n",
    "z"
   ]
  },
  {
   "cell_type": "code",
   "execution_count": 52,
   "id": "38b1f8ec",
   "metadata": {},
   "outputs": [
    {
     "data": {
      "text/plain": [
       "[{'author id': 754720008509403137,\n",
       "  'id': 1489706377689841671,\n",
       "  'text': 'Happy #BlackHistoryMonth, Anaheim! Celebrate Black voices this month and beyond by visiting your library to check out the books below and more!\\n\\n⭐ \"Pet\" by by @azemezi \\n⭐ \"Now That I\\'ve Found You\" by @KristinaForest \\n⭐ \"Punching the Air\" by @ibizoboi &amp; @dr_yusefsalaam https://t.co/SoIZhfXUQD',\n",
       "  'for': 28886036},\n",
       " {'author id': 2518142763,\n",
       "  'id': 1489631547162611715,\n",
       "  'text': 'Rewatched both, @13THFilm (for at least the 100th ⏰ and @WhenTheySeeUs Tears always flow, but I always find myself smiling bigger at the end. @dr_yusefsalaam  @koreykingwise @AntronMccray @santanaraymond faces &amp; where they are now makes my ❤️ happy! TY @ava',\n",
       "  'for': 28886036},\n",
       " {'author id': 160625658,\n",
       "  'id': 1489383593721933824,\n",
       "  'text': '.@dr_yusefsalaam',\n",
       "  'for': 28886036},\n",
       " {'author id': 1122758179,\n",
       "  'id': 1489382858158493706,\n",
       "  'text': 'I asked @dr_yusefsalaam what advice could he give me as a person on the outside trying to nurture the human experience of a family member on the inside without being toxically positive. I am so thankful for this answer! #betternotbitter https://t.co/QIqABU4fuI',\n",
       "  'for': 28886036},\n",
       " {'author id': 3873228269,\n",
       "  'id': 1489363690658881549,\n",
       "  'text': 'Impactful 22nd annual Dr. William G. Anderson Slavery to Freedom Lecture Series w/@dr_yusefsalaam, member of The Exonerated Five &amp; motivational/transformational speaker &amp; NYT Best Selling author, new book @GrandCentralPub Better not Bitter\\nhttps://t.co/alJ6QPXSOJ\\n@MSU_Osteopathic https://t.co/gmT8j8d7Dp',\n",
       "  'for': 28886036},\n",
       " {'author id': 1122758179,\n",
       "  'id': 1489359452780257284,\n",
       "  'text': 'Waiting for @dr_yusefsalaam on this webinar! So proud of this black man! Shout out to the Spartans! This @WMUBroncos is thankful!',\n",
       "  'for': 28886036},\n",
       " {'author id': 574005482,\n",
       "  'id': 1489246492988739587,\n",
       "  'text': '#Day24: a book collaboration by 2 or more authors. #punchingtheair the stunning #versenovel by @ibizoboi and @dr_yusefsalaam fits this category perfectly. It was the first verse novel I read and I was very sceptical of the genre. But I’m so glad I read it because I loved it ❤️📖 https://t.co/CrJhrfsocl',\n",
       "  'for': 28886036},\n",
       " {'author id': 565922680,\n",
       "  'id': 1489223940790759434,\n",
       "  'text': \"@maikamoulite @acevedowrites @MaritzaMoulite @andthisjustin @dr_yusefsalaam @angiecthomas 💜💜 can't wait ro read your book\",\n",
       "  'for': 28886036},\n",
       " {'author id': 215036904,\n",
       "  'id': 1489066639375147015,\n",
       "  'text': '@resses_peace @acevedowrites @MaritzaMoulite @andthisjustin @dr_yusefsalaam @angiecthomas ❤️❤️',\n",
       "  'for': 28886036},\n",
       " {'author id': 565922680,\n",
       "  'id': 1488951615180660740,\n",
       "  'text': '@acevedowrites @maikamoulite @MaritzaMoulite @andthisjustin\\n@dr_yusefsalaam @angiecthomas\\n\\n#librarytwitter #librarylife #BHM #BlackHistoryMonth #yabooks #teenreaders #publicLibrary #ToniMorrison #RosaParks #TinaTurner #blackauthors #blackwriters https://t.co/9Uf1QRCbiu',\n",
       "  'for': 28886036},\n",
       " {'author id': 128490887,\n",
       "  'id': 1488868280358084608,\n",
       "  'text': '@GeoffWDA @dr_yusefsalaam',\n",
       "  'for': 28886036},\n",
       " {'author id': 815555376661884928,\n",
       "  'id': 1488605551378452482,\n",
       "  'text': 'Congratulations to the Longlist of the 2022 Dublin Literary Award 12/n\\n#GoranVojnovic Olivia Hellewell @oliviahellewell\\n#PipWilliams\\nAlice Zeniter @AliceZeniter Frank Wynne @Terribleman\\nIbi Zoboi @ibizoboi  Yusef Salaam @dr_yusefsalaam\\nPast years:\\nhttps://t.co/IZ9oVIafb1',\n",
       "  'for': 28886036}]"
      ]
     },
     "execution_count": 52,
     "metadata": {},
     "output_type": "execute_result"
    }
   ],
   "source": [
    "mentionTweets(28886036)\n"
   ]
  },
  {
   "cell_type": "code",
   "execution_count": 53,
   "id": "c14ea032",
   "metadata": {},
   "outputs": [
    {
     "data": {
      "text/plain": [
       "[{'author id': 28886036,\n",
       "  'id': 1488922592035721218,\n",
       "  'text': '.\\n#PowerPost💪🏻💪🏼💪🏽💪🏾💪🏿™️\\n\\nJoin me in conversation tomorrow at @mbp_msu!!!!! as we talk Slavery to Freedom with @dr.yusefsalaam \\n\\nFeb 3, 2022 05:00 PM EST\\n\\nRegister here:\\n\\nhttps://t.co/gHt2mX5GCy https://t.co/yar1zTHf5i',\n",
       "  'for': 28886036},\n",
       " {'author id': 28886036,\n",
       "  'id': 1488922082234839051,\n",
       "  'text': '📷 . #PowerPost💪🏻💪🏼💪🏽💪🏾💪🏿™️ Join me in conversation tomorrow at @mbp_msu!!!!! as we talk Slavery to Freedom with @dr.yusefsalaam Feb 3, 2022 05:00 PM EST Register here: https://t.co/gHt2mX5GCy... https://t.co/jxCstk2oUg',\n",
       "  'for': 28886036},\n",
       " {'author id': 28886036,\n",
       "  'id': 1488922080510947330,\n",
       "  'text': 'Just posted a photo https://t.co/Q6vSYbqPUY',\n",
       "  'for': 28886036}]"
      ]
     },
     "execution_count": 53,
     "metadata": {},
     "output_type": "execute_result"
    }
   ],
   "source": [
    "userTweets(28886036)"
   ]
  },
  {
   "cell_type": "code",
   "execution_count": 54,
   "id": "ee0b34c9",
   "metadata": {},
   "outputs": [
    {
     "data": {
      "text/html": [
       "<div>\n",
       "<style scoped>\n",
       "    .dataframe tbody tr th:only-of-type {\n",
       "        vertical-align: middle;\n",
       "    }\n",
       "\n",
       "    .dataframe tbody tr th {\n",
       "        vertical-align: top;\n",
       "    }\n",
       "\n",
       "    .dataframe thead th {\n",
       "        text-align: right;\n",
       "    }\n",
       "</style>\n",
       "<table border=\"1\" class=\"dataframe\">\n",
       "  <thead>\n",
       "    <tr style=\"text-align: right;\">\n",
       "      <th></th>\n",
       "      <th>author id</th>\n",
       "      <th>id</th>\n",
       "      <th>text</th>\n",
       "      <th>for</th>\n",
       "    </tr>\n",
       "  </thead>\n",
       "  <tbody>\n",
       "    <tr>\n",
       "      <th>0</th>\n",
       "      <td>754720008509403137</td>\n",
       "      <td>1489706377689841671</td>\n",
       "      <td>Happy #BlackHistoryMonth, Anaheim! Celebrate B...</td>\n",
       "      <td>28886036</td>\n",
       "    </tr>\n",
       "    <tr>\n",
       "      <th>1</th>\n",
       "      <td>2518142763</td>\n",
       "      <td>1489631547162611715</td>\n",
       "      <td>Rewatched both, @13THFilm (for at least the 10...</td>\n",
       "      <td>28886036</td>\n",
       "    </tr>\n",
       "    <tr>\n",
       "      <th>2</th>\n",
       "      <td>160625658</td>\n",
       "      <td>1489383593721933824</td>\n",
       "      <td>.@dr_yusefsalaam</td>\n",
       "      <td>28886036</td>\n",
       "    </tr>\n",
       "    <tr>\n",
       "      <th>3</th>\n",
       "      <td>1122758179</td>\n",
       "      <td>1489382858158493706</td>\n",
       "      <td>I asked @dr_yusefsalaam what advice could he g...</td>\n",
       "      <td>28886036</td>\n",
       "    </tr>\n",
       "    <tr>\n",
       "      <th>4</th>\n",
       "      <td>3873228269</td>\n",
       "      <td>1489363690658881549</td>\n",
       "      <td>Impactful 22nd annual Dr. William G. Anderson ...</td>\n",
       "      <td>28886036</td>\n",
       "    </tr>\n",
       "    <tr>\n",
       "      <th>5</th>\n",
       "      <td>1122758179</td>\n",
       "      <td>1489359452780257284</td>\n",
       "      <td>Waiting for @dr_yusefsalaam on this webinar! S...</td>\n",
       "      <td>28886036</td>\n",
       "    </tr>\n",
       "    <tr>\n",
       "      <th>6</th>\n",
       "      <td>574005482</td>\n",
       "      <td>1489246492988739587</td>\n",
       "      <td>#Day24: a book collaboration by 2 or more auth...</td>\n",
       "      <td>28886036</td>\n",
       "    </tr>\n",
       "    <tr>\n",
       "      <th>7</th>\n",
       "      <td>565922680</td>\n",
       "      <td>1489223940790759434</td>\n",
       "      <td>@maikamoulite @acevedowrites @MaritzaMoulite @...</td>\n",
       "      <td>28886036</td>\n",
       "    </tr>\n",
       "    <tr>\n",
       "      <th>8</th>\n",
       "      <td>215036904</td>\n",
       "      <td>1489066639375147015</td>\n",
       "      <td>@resses_peace @acevedowrites @MaritzaMoulite @...</td>\n",
       "      <td>28886036</td>\n",
       "    </tr>\n",
       "    <tr>\n",
       "      <th>9</th>\n",
       "      <td>565922680</td>\n",
       "      <td>1488951615180660740</td>\n",
       "      <td>@acevedowrites @maikamoulite @MaritzaMoulite @...</td>\n",
       "      <td>28886036</td>\n",
       "    </tr>\n",
       "    <tr>\n",
       "      <th>10</th>\n",
       "      <td>128490887</td>\n",
       "      <td>1488868280358084608</td>\n",
       "      <td>@GeoffWDA @dr_yusefsalaam</td>\n",
       "      <td>28886036</td>\n",
       "    </tr>\n",
       "    <tr>\n",
       "      <th>11</th>\n",
       "      <td>815555376661884928</td>\n",
       "      <td>1488605551378452482</td>\n",
       "      <td>Congratulations to the Longlist of the 2022 Du...</td>\n",
       "      <td>28886036</td>\n",
       "    </tr>\n",
       "  </tbody>\n",
       "</table>\n",
       "</div>"
      ],
      "text/plain": [
       "             author id                   id  \\\n",
       "0   754720008509403137  1489706377689841671   \n",
       "1           2518142763  1489631547162611715   \n",
       "2            160625658  1489383593721933824   \n",
       "3           1122758179  1489382858158493706   \n",
       "4           3873228269  1489363690658881549   \n",
       "5           1122758179  1489359452780257284   \n",
       "6            574005482  1489246492988739587   \n",
       "7            565922680  1489223940790759434   \n",
       "8            215036904  1489066639375147015   \n",
       "9            565922680  1488951615180660740   \n",
       "10           128490887  1488868280358084608   \n",
       "11  815555376661884928  1488605551378452482   \n",
       "\n",
       "                                                 text       for  \n",
       "0   Happy #BlackHistoryMonth, Anaheim! Celebrate B...  28886036  \n",
       "1   Rewatched both, @13THFilm (for at least the 10...  28886036  \n",
       "2                                    .@dr_yusefsalaam  28886036  \n",
       "3   I asked @dr_yusefsalaam what advice could he g...  28886036  \n",
       "4   Impactful 22nd annual Dr. William G. Anderson ...  28886036  \n",
       "5   Waiting for @dr_yusefsalaam on this webinar! S...  28886036  \n",
       "6   #Day24: a book collaboration by 2 or more auth...  28886036  \n",
       "7   @maikamoulite @acevedowrites @MaritzaMoulite @...  28886036  \n",
       "8   @resses_peace @acevedowrites @MaritzaMoulite @...  28886036  \n",
       "9   @acevedowrites @maikamoulite @MaritzaMoulite @...  28886036  \n",
       "10                          @GeoffWDA @dr_yusefsalaam  28886036  \n",
       "11  Congratulations to the Longlist of the 2022 Du...  28886036  "
      ]
     },
     "execution_count": 54,
     "metadata": {},
     "output_type": "execute_result"
    }
   ],
   "source": [
    "gotMentionTweets = mentionTweets(28886036)\n",
    "tweet_batch_m = pd.DataFrame(gotMentionTweets)\n",
    "tweet_batch_m"
   ]
  },
  {
   "cell_type": "code",
   "execution_count": 55,
   "id": "1b112caf",
   "metadata": {},
   "outputs": [
    {
     "data": {
      "text/html": [
       "<div>\n",
       "<style scoped>\n",
       "    .dataframe tbody tr th:only-of-type {\n",
       "        vertical-align: middle;\n",
       "    }\n",
       "\n",
       "    .dataframe tbody tr th {\n",
       "        vertical-align: top;\n",
       "    }\n",
       "\n",
       "    .dataframe thead th {\n",
       "        text-align: right;\n",
       "    }\n",
       "</style>\n",
       "<table border=\"1\" class=\"dataframe\">\n",
       "  <thead>\n",
       "    <tr style=\"text-align: right;\">\n",
       "      <th></th>\n",
       "      <th>neg</th>\n",
       "      <th>neu</th>\n",
       "      <th>pos</th>\n",
       "      <th>compound</th>\n",
       "    </tr>\n",
       "  </thead>\n",
       "  <tbody>\n",
       "    <tr>\n",
       "      <th>0</th>\n",
       "      <td>0.000</td>\n",
       "      <td>0.830</td>\n",
       "      <td>0.170</td>\n",
       "      <td>0.8395</td>\n",
       "    </tr>\n",
       "    <tr>\n",
       "      <th>1</th>\n",
       "      <td>0.029</td>\n",
       "      <td>0.690</td>\n",
       "      <td>0.281</td>\n",
       "      <td>0.9370</td>\n",
       "    </tr>\n",
       "    <tr>\n",
       "      <th>2</th>\n",
       "      <td>0.000</td>\n",
       "      <td>1.000</td>\n",
       "      <td>0.000</td>\n",
       "      <td>0.0000</td>\n",
       "    </tr>\n",
       "    <tr>\n",
       "      <th>3</th>\n",
       "      <td>0.067</td>\n",
       "      <td>0.780</td>\n",
       "      <td>0.153</td>\n",
       "      <td>0.5805</td>\n",
       "    </tr>\n",
       "    <tr>\n",
       "      <th>4</th>\n",
       "      <td>0.096</td>\n",
       "      <td>0.577</td>\n",
       "      <td>0.327</td>\n",
       "      <td>0.8917</td>\n",
       "    </tr>\n",
       "    <tr>\n",
       "      <th>5</th>\n",
       "      <td>0.000</td>\n",
       "      <td>0.697</td>\n",
       "      <td>0.303</td>\n",
       "      <td>0.8504</td>\n",
       "    </tr>\n",
       "    <tr>\n",
       "      <th>6</th>\n",
       "      <td>0.031</td>\n",
       "      <td>0.673</td>\n",
       "      <td>0.296</td>\n",
       "      <td>0.9428</td>\n",
       "    </tr>\n",
       "    <tr>\n",
       "      <th>7</th>\n",
       "      <td>0.000</td>\n",
       "      <td>1.000</td>\n",
       "      <td>0.000</td>\n",
       "      <td>0.0000</td>\n",
       "    </tr>\n",
       "    <tr>\n",
       "      <th>8</th>\n",
       "      <td>0.000</td>\n",
       "      <td>1.000</td>\n",
       "      <td>0.000</td>\n",
       "      <td>0.0000</td>\n",
       "    </tr>\n",
       "    <tr>\n",
       "      <th>9</th>\n",
       "      <td>0.000</td>\n",
       "      <td>1.000</td>\n",
       "      <td>0.000</td>\n",
       "      <td>0.0000</td>\n",
       "    </tr>\n",
       "    <tr>\n",
       "      <th>10</th>\n",
       "      <td>0.000</td>\n",
       "      <td>1.000</td>\n",
       "      <td>0.000</td>\n",
       "      <td>0.0000</td>\n",
       "    </tr>\n",
       "    <tr>\n",
       "      <th>11</th>\n",
       "      <td>0.000</td>\n",
       "      <td>0.797</td>\n",
       "      <td>0.203</td>\n",
       "      <td>0.8126</td>\n",
       "    </tr>\n",
       "  </tbody>\n",
       "</table>\n",
       "</div>"
      ],
      "text/plain": [
       "      neg    neu    pos  compound\n",
       "0   0.000  0.830  0.170    0.8395\n",
       "1   0.029  0.690  0.281    0.9370\n",
       "2   0.000  1.000  0.000    0.0000\n",
       "3   0.067  0.780  0.153    0.5805\n",
       "4   0.096  0.577  0.327    0.8917\n",
       "5   0.000  0.697  0.303    0.8504\n",
       "6   0.031  0.673  0.296    0.9428\n",
       "7   0.000  1.000  0.000    0.0000\n",
       "8   0.000  1.000  0.000    0.0000\n",
       "9   0.000  1.000  0.000    0.0000\n",
       "10  0.000  1.000  0.000    0.0000\n",
       "11  0.000  0.797  0.203    0.8126"
      ]
     },
     "execution_count": 55,
     "metadata": {},
     "output_type": "execute_result"
    }
   ],
   "source": [
    "#finding the polarity scores\n",
    "sent_list_m = []\n",
    "for i in range(len(tweet_batch_m)):\n",
    "    sent_value = SentimentIntensityAnalyzer()\n",
    "    pol_score = sent_value.polarity_scores(tweet_batch_m.loc[i, 'text'])\n",
    "    sent_list_m.append(pol_score)\n",
    "    \n",
    "df_pol_m = pd.DataFrame(sent_list_m)\n",
    "df_pol_m"
   ]
  },
  {
   "cell_type": "code",
   "execution_count": 56,
   "id": "6854b5d4",
   "metadata": {},
   "outputs": [
    {
     "data": {
      "text/plain": [
       "[<matplotlib.lines.Line2D at 0x1b0bb5ba3d0>,\n",
       " <matplotlib.lines.Line2D at 0x1b0bb5ba400>,\n",
       " <matplotlib.lines.Line2D at 0x1b0bb5ba520>,\n",
       " <matplotlib.lines.Line2D at 0x1b0bb5ba640>]"
      ]
     },
     "execution_count": 56,
     "metadata": {},
     "output_type": "execute_result"
    },
    {
     "data": {
      "image/png": "[encoded data removed]",
      "text/plain": [
       "<Figure size 432x288 with 1 Axes>"
      ]
     },
     "metadata": {
      "needs_background": "light"
     },
     "output_type": "display_data"
    }
   ],
   "source": [
    "#same thing done for the user tweets\n",
    "plt.plot(df_pol_m)"
   ]
  },
  {
   "cell_type": "code",
   "execution_count": 57,
   "id": "bac44668",
   "metadata": {},
   "outputs": [],
   "source": [
    "tweet_batch_u = pd.DataFrame(gotMentionTweets)\n",
    "# tweet_batch_u"
   ]
  },
  {
   "cell_type": "code",
   "execution_count": 58,
   "id": "809a9add",
   "metadata": {},
   "outputs": [
    {
     "data": {
      "text/html": [
       "<div>\n",
       "<style scoped>\n",
       "    .dataframe tbody tr th:only-of-type {\n",
       "        vertical-align: middle;\n",
       "    }\n",
       "\n",
       "    .dataframe tbody tr th {\n",
       "        vertical-align: top;\n",
       "    }\n",
       "\n",
       "    .dataframe thead th {\n",
       "        text-align: right;\n",
       "    }\n",
       "</style>\n",
       "<table border=\"1\" class=\"dataframe\">\n",
       "  <thead>\n",
       "    <tr style=\"text-align: right;\">\n",
       "      <th></th>\n",
       "      <th>neg</th>\n",
       "      <th>neu</th>\n",
       "      <th>pos</th>\n",
       "      <th>compound</th>\n",
       "    </tr>\n",
       "  </thead>\n",
       "  <tbody>\n",
       "    <tr>\n",
       "      <th>0</th>\n",
       "      <td>0.000</td>\n",
       "      <td>0.830</td>\n",
       "      <td>0.170</td>\n",
       "      <td>0.8395</td>\n",
       "    </tr>\n",
       "    <tr>\n",
       "      <th>1</th>\n",
       "      <td>0.029</td>\n",
       "      <td>0.690</td>\n",
       "      <td>0.281</td>\n",
       "      <td>0.9370</td>\n",
       "    </tr>\n",
       "    <tr>\n",
       "      <th>2</th>\n",
       "      <td>0.000</td>\n",
       "      <td>1.000</td>\n",
       "      <td>0.000</td>\n",
       "      <td>0.0000</td>\n",
       "    </tr>\n",
       "    <tr>\n",
       "      <th>3</th>\n",
       "      <td>0.067</td>\n",
       "      <td>0.780</td>\n",
       "      <td>0.153</td>\n",
       "      <td>0.5805</td>\n",
       "    </tr>\n",
       "    <tr>\n",
       "      <th>4</th>\n",
       "      <td>0.096</td>\n",
       "      <td>0.577</td>\n",
       "      <td>0.327</td>\n",
       "      <td>0.8917</td>\n",
       "    </tr>\n",
       "    <tr>\n",
       "      <th>5</th>\n",
       "      <td>0.000</td>\n",
       "      <td>0.697</td>\n",
       "      <td>0.303</td>\n",
       "      <td>0.8504</td>\n",
       "    </tr>\n",
       "    <tr>\n",
       "      <th>6</th>\n",
       "      <td>0.031</td>\n",
       "      <td>0.673</td>\n",
       "      <td>0.296</td>\n",
       "      <td>0.9428</td>\n",
       "    </tr>\n",
       "    <tr>\n",
       "      <th>7</th>\n",
       "      <td>0.000</td>\n",
       "      <td>1.000</td>\n",
       "      <td>0.000</td>\n",
       "      <td>0.0000</td>\n",
       "    </tr>\n",
       "    <tr>\n",
       "      <th>8</th>\n",
       "      <td>0.000</td>\n",
       "      <td>1.000</td>\n",
       "      <td>0.000</td>\n",
       "      <td>0.0000</td>\n",
       "    </tr>\n",
       "    <tr>\n",
       "      <th>9</th>\n",
       "      <td>0.000</td>\n",
       "      <td>1.000</td>\n",
       "      <td>0.000</td>\n",
       "      <td>0.0000</td>\n",
       "    </tr>\n",
       "    <tr>\n",
       "      <th>10</th>\n",
       "      <td>0.000</td>\n",
       "      <td>1.000</td>\n",
       "      <td>0.000</td>\n",
       "      <td>0.0000</td>\n",
       "    </tr>\n",
       "    <tr>\n",
       "      <th>11</th>\n",
       "      <td>0.000</td>\n",
       "      <td>0.797</td>\n",
       "      <td>0.203</td>\n",
       "      <td>0.8126</td>\n",
       "    </tr>\n",
       "  </tbody>\n",
       "</table>\n",
       "</div>"
      ],
      "text/plain": [
       "      neg    neu    pos  compound\n",
       "0   0.000  0.830  0.170    0.8395\n",
       "1   0.029  0.690  0.281    0.9370\n",
       "2   0.000  1.000  0.000    0.0000\n",
       "3   0.067  0.780  0.153    0.5805\n",
       "4   0.096  0.577  0.327    0.8917\n",
       "5   0.000  0.697  0.303    0.8504\n",
       "6   0.031  0.673  0.296    0.9428\n",
       "7   0.000  1.000  0.000    0.0000\n",
       "8   0.000  1.000  0.000    0.0000\n",
       "9   0.000  1.000  0.000    0.0000\n",
       "10  0.000  1.000  0.000    0.0000\n",
       "11  0.000  0.797  0.203    0.8126"
      ]
     },
     "execution_count": 58,
     "metadata": {},
     "output_type": "execute_result"
    }
   ],
   "source": [
    "#finding the polarity scores\n",
    "sent_list_u = []\n",
    "for i in range(len(tweet_batch_u)):\n",
    "    sent_value = SentimentIntensityAnalyzer()\n",
    "    pol_score = sent_value.polarity_scores(tweet_batch_u.loc[i, 'text'])\n",
    "    sent_list_u.append(pol_score)\n",
    "    \n",
    "df_pol_u = pd.DataFrame(sent_list_u)\n",
    "df_pol_u"
   ]
  },
  {
   "cell_type": "code",
   "execution_count": 59,
   "id": "d8463b96",
   "metadata": {},
   "outputs": [],
   "source": [
    "# cleans the tweet's text\n",
    "def cleanTxt(txt):\n",
    "    txt = re.sub(r'@[A-Za-z0-9]+', '', txt) # Removed @mentioned\n",
    "    txt = re.sub(r'#', '', txt) # remove #\n",
    "    txt = re.sub(r'RT[\\s]+', '', txt) #remove RT\n",
    "    txt = re.sub(r'http?:\\/\\/S+', '', txt)\n",
    "    txt = re.sub(r'\\n_', '', txt)\n",
    "    \n",
    "    return txt"
   ]
  },
  {
   "cell_type": "code",
   "execution_count": 61,
   "id": "be6d631a",
   "metadata": {},
   "outputs": [
    {
     "ename": "NameError",
     "evalue": "name 'tweet_batch' is not defined",
     "output_type": "error",
     "traceback": [
      "\u001b[1;31m---------------------------------------------------------------------------\u001b[0m",
      "\u001b[1;31mNameError\u001b[0m                                 Traceback (most recent call last)",
      "\u001b[1;32m~\\AppData\\Local\\Temp/ipykernel_6204/805776667.py\u001b[0m in \u001b[0;36m<module>\u001b[1;34m\u001b[0m\n\u001b[0;32m      1\u001b[0m \u001b[1;31m# applying the cleanTxt function on text\u001b[0m\u001b[1;33m\u001b[0m\u001b[1;33m\u001b[0m\u001b[0m\n\u001b[1;32m----> 2\u001b[1;33m \u001b[0mtweet_batch\u001b[0m\u001b[1;33m[\u001b[0m\u001b[1;34m'text'\u001b[0m\u001b[1;33m]\u001b[0m \u001b[1;33m=\u001b[0m \u001b[0mtweet_batch\u001b[0m\u001b[1;33m[\u001b[0m\u001b[1;34m'text'\u001b[0m\u001b[1;33m]\u001b[0m\u001b[1;33m.\u001b[0m\u001b[0mapply\u001b[0m\u001b[1;33m(\u001b[0m\u001b[0mcleanTxt\u001b[0m\u001b[1;33m)\u001b[0m\u001b[1;33m\u001b[0m\u001b[1;33m\u001b[0m\u001b[0m\n\u001b[0m\u001b[0;32m      3\u001b[0m \u001b[1;31m# tweet_batch\u001b[0m\u001b[1;33m\u001b[0m\u001b[1;33m\u001b[0m\u001b[0m\n",
      "\u001b[1;31mNameError\u001b[0m: name 'tweet_batch' is not defined"
     ]
    }
   ],
   "source": [
    "# applying the cleanTxt function on text\n",
    "tweet_batch['text'] = tweet_batch['text'].apply(cleanTxt)\n",
    "# tweet_batch"
   ]
  },
  {
   "cell_type": "code",
   "execution_count": null,
   "id": "3c90fde1",
   "metadata": {},
   "outputs": [],
   "source": [
    "# Get the subjectivity of the text\n",
    "def getSubjectivity(text):\n",
    "    return TextBlob(text).sentiment.subjectivity\n"
   ]
  },
  {
   "cell_type": "code",
   "execution_count": null,
   "id": "548661c0",
   "metadata": {},
   "outputs": [],
   "source": [
    "# Get the polarity of the text\n",
    "def getPolarity(text):\n",
    "    return TextBlob(text).sentiment.polarity\n"
   ]
  },
  {
   "cell_type": "code",
   "execution_count": null,
   "id": "e864f579",
   "metadata": {},
   "outputs": [],
   "source": [
    "# applying the getSubjectivity and getPolarity functions on text\n",
    "tweet_batch['Subjectivity'] = tweet_batch['text'].apply(getSubjectivity)\n",
    "tweet_batch['Polarity'] = tweet_batch['text'].apply(getPolarity)\n",
    "# tweet_batch\n"
   ]
  },
  {
   "cell_type": "code",
   "execution_count": null,
   "id": "1f7df93b",
   "metadata": {},
   "outputs": [],
   "source": [
    "# define if the tweet is negative/positive/neutral\n",
    "def getAnalysis(score):\n",
    "    if score < 0:\n",
    "        return 'Negative'\n",
    "    elif score == 0:\n",
    "        return 'Neutral'\n",
    "    else:\n",
    "        return 'Positive'\n",
    "    "
   ]
  },
  {
   "cell_type": "code",
   "execution_count": null,
   "id": "be18d7b3",
   "metadata": {},
   "outputs": [],
   "source": [
    "tweet_batch['Analysis'] = tweet_batch['Polarity'].apply(getAnalysis)\n",
    "# tweet_batch"
   ]
  },
  {
   "cell_type": "code",
   "execution_count": null,
   "id": "272e6faf",
   "metadata": {},
   "outputs": [],
   "source": [
    "# plots the sentiment analysis as a scatterplot graph\n",
    "plt.figure(figsize = (8,6))\n",
    "for i in range(0, tweet_batch.shape[0]):\n",
    "    plt.scatter(tweet_batch['Polarity'][i], tweet_batch['Subjectivity'][i], color = 'Blue')\n",
    "    \n",
    "plt.title('Sentiment Analysis')\n",
    "plt.xlabel('Polarity')\n",
    "plt.ylabel('Subjectivity')"
   ]
  },
  {
   "cell_type": "code",
   "execution_count": null,
   "id": "7b5a5a38",
   "metadata": {},
   "outputs": [],
   "source": [
    "# detecting if profanity exists in the text\n",
    "def detectProfanity(txt):\n",
    "    if __name__ == \"__main__\":\n",
    "        dirty_text = txt;\n",
    "    return bool(profanity.contains_profanity(dirty_text))"
   ]
  },
  {
   "cell_type": "code",
   "execution_count": null,
   "id": "6e76b5b0",
   "metadata": {},
   "outputs": [],
   "source": [
    "\n",
    "tweet_batch['Profanity'] = tweet_batch['text'].apply(detectProfanity)"
   ]
  },
  {
   "cell_type": "code",
   "execution_count": null,
   "id": "76fa2f79",
   "metadata": {},
   "outputs": [],
   "source": [
    "combine = tweet_batch.combine_first(sent_scores) #gets rid of text***\n",
    "# combine"
   ]
  },
  {
   "cell_type": "code",
   "execution_count": null,
   "id": "31441bf0",
   "metadata": {},
   "outputs": [],
   "source": [
    "combine.mean()\n"
   ]
  }
 ],
 "metadata": {
  "kernelspec": {
   "display_name": "Python 3 (ipykernel)",
   "language": "python",
   "name": "python3"
  },
  "language_info": {
   "codemirror_mode": {
    "name": "ipython",
    "version": 3
   },
   "file_extension": ".py",
   "mimetype": "text/x-python",
   "name": "python",
   "nbconvert_exporter": "python",
   "pygments_lexer": "ipython3",
   "version": "3.9.7"
  }
 },
 "nbformat": 4,
 "nbformat_minor": 5
}
